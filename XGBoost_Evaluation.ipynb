{
 "cells": [
  {
   "cell_type": "code",
   "execution_count": 1,
   "id": "fc90948f",
   "metadata": {},
   "outputs": [],
   "source": [
    "import numpy as np\n",
    "import pandas as pd\n",
    "import matplotlib.pyplot as plt\n",
    "import pickle\n",
    "from scipy.optimize import minimize\n",
    "from sklearn.metrics import mean_squared_error"
   ]
  },
  {
   "cell_type": "code",
   "execution_count": null,
   "id": "6e25a04c",
   "metadata": {},
   "outputs": [
    {
     "data": {
      "text/html": [
       "<div>\n",
       "<style scoped>\n",
       "    .dataframe tbody tr th:only-of-type {\n",
       "        vertical-align: middle;\n",
       "    }\n",
       "\n",
       "    .dataframe tbody tr th {\n",
       "        vertical-align: top;\n",
       "    }\n",
       "\n",
       "    .dataframe thead th {\n",
       "        text-align: right;\n",
       "    }\n",
       "</style>\n",
       "<table border=\"1\" class=\"dataframe\">\n",
       "  <thead>\n",
       "    <tr style=\"text-align: right;\">\n",
       "      <th></th>\n",
       "      <th>RMSE</th>\n",
       "      <th>Expected_Return</th>\n",
       "    </tr>\n",
       "  </thead>\n",
       "  <tbody>\n",
       "    <tr>\n",
       "      <th>A UN Equity</th>\n",
       "      <td>14.363762</td>\n",
       "      <td>-0.016878</td>\n",
       "    </tr>\n",
       "    <tr>\n",
       "      <th>AAPL UW Equity</th>\n",
       "      <td>16.043212</td>\n",
       "      <td>0.006475</td>\n",
       "    </tr>\n",
       "    <tr>\n",
       "      <th>ABBV UN Equity</th>\n",
       "      <td>20.048031</td>\n",
       "      <td>0.011859</td>\n",
       "    </tr>\n",
       "    <tr>\n",
       "      <th>ABT UN Equity</th>\n",
       "      <td>14.449679</td>\n",
       "      <td>-0.005204</td>\n",
       "    </tr>\n",
       "    <tr>\n",
       "      <th>ACGL UW Equity</th>\n",
       "      <td>27.014709</td>\n",
       "      <td>0.021623</td>\n",
       "    </tr>\n",
       "    <tr>\n",
       "      <th>...</th>\n",
       "      <td>...</td>\n",
       "      <td>...</td>\n",
       "    </tr>\n",
       "    <tr>\n",
       "      <th>XYL UN Equity</th>\n",
       "      <td>15.143776</td>\n",
       "      <td>0.004058</td>\n",
       "    </tr>\n",
       "    <tr>\n",
       "      <th>YUM UN Equity</th>\n",
       "      <td>11.884958</td>\n",
       "      <td>-0.003026</td>\n",
       "    </tr>\n",
       "    <tr>\n",
       "      <th>ZBH UN Equity</th>\n",
       "      <td>10.590161</td>\n",
       "      <td>-0.032191</td>\n",
       "    </tr>\n",
       "    <tr>\n",
       "      <th>ZBRA UW Equity</th>\n",
       "      <td>59.406404</td>\n",
       "      <td>0.034218</td>\n",
       "    </tr>\n",
       "    <tr>\n",
       "      <th>ZTS UN Equity</th>\n",
       "      <td>47.790225</td>\n",
       "      <td>0.034338</td>\n",
       "    </tr>\n",
       "  </tbody>\n",
       "</table>\n",
       "<p>479 rows × 2 columns</p>\n",
       "</div>"
      ],
      "text/plain": [
       "                     RMSE  Expected_Return\n",
       "A UN Equity     14.363762        -0.016878\n",
       "AAPL UW Equity  16.043212         0.006475\n",
       "ABBV UN Equity  20.048031         0.011859\n",
       "ABT UN Equity   14.449679        -0.005204\n",
       "ACGL UW Equity  27.014709         0.021623\n",
       "...                   ...              ...\n",
       "XYL UN Equity   15.143776         0.004058\n",
       "YUM UN Equity   11.884958        -0.003026\n",
       "ZBH UN Equity   10.590161        -0.032191\n",
       "ZBRA UW Equity  59.406404         0.034218\n",
       "ZTS UN Equity   47.790225         0.034338\n",
       "\n",
       "[479 rows x 2 columns]"
      ]
     },
     "execution_count": 6,
     "metadata": {},
     "output_type": "execute_result"
    }
   ],
   "source": [
    "# Load XGB results\n",
    "with open(\"xgb_results_simple.pkl\", \"rb\") as f:\n",
    "    results = pickle.load(f)\n",
    "\n",
    "# Load S&P 500 data\n",
    "# Calculate RMSE for filtering\n",
    "performance = {}\n",
    "for ticker, data in results.items():\n",
    "    actual = data[\"Actual Prices\"]\n",
    "    predicted = data[\"Predicted Prices\"]\n",
    "    performance[ticker] = {\n",
    "        \"RMSE\": np.sqrt(mean_squared_error(actual, predicted)),\n",
    "        \"Expected_Return\": data[\"Expected Return\"]\n",
    "    }\n",
    "\n",
    "performance_df = pd.DataFrame.from_dict(performance, orient=\"index\")\n",
    "\n",
    "performance_df"
   ]
  },
  {
   "cell_type": "code",
   "execution_count": null,
   "id": "e23a8fa3",
   "metadata": {},
   "outputs": [
    {
     "name": "stdout",
     "output_type": "stream",
     "text": [
      "['CRWD UW Equity', 'DAL UN Equity', 'GNRC UN Equity', 'HWM UN Equity', 'WELL UN Equity', 'WMT UN Equity', 'CBRE UN Equity', 'RL UN Equity', 'ANET UN Equity', 'TJX UN Equity', 'WAB UN Equity', 'CSCO UW Equity', 'HES UN Equity', 'LYV UN Equity', 'CMI UN Equity', 'CRM UN Equity', 'WRB UN Equity', 'TROW UW Equity', 'APH UN Equity', 'JCI UN Equity', 'EQT UN Equity', 'DOV UN Equity', 'AON UN Equity', 'BK UN Equity', 'AXP UN Equity', 'CTRA UN Equity', 'NOW UN Equity', 'ATO UN Equity', 'COST UW Equity', 'MAA UN Equity', 'BLK UN Equity', 'LII UN Equity', 'CTAS UW Equity', 'BKNG UW Equity', 'SPG UN Equity', 'CTSH UW Equity', 'NVDA UW Equity', 'AJG UN Equity', 'MMC UN Equity', 'REG UW Equity', 'SLB UN Equity', 'AMP UN Equity', 'GWW UN Equity', 'TEL UN Equity', 'CBOE UF Equity', 'F UN Equity', 'VLO UN Equity', 'CF UN Equity', 'DE UN Equity', 'PTC UW Equity']\n"
     ]
    }
   ],
   "source": [
    "sp500 = pd.read_excel(\"sp500_Cleaned_Processed.xlsx\",\n",
    "                      parse_dates=[0], index_col=[0])\n",
    "\n",
    "# Load original data for volatility calculation\n",
    "full_df = pd.read_excel(\"Stock_Features_Complete.xlsx\", parse_dates=[0])\n",
    "\n",
    "# Calculate price volatility (1 year)\n",
    "price_volatility = full_df.groupby(\"Ticker\")[\"Closing_Price\"].std()\n",
    "\n",
    "# Filter criteria: RMSE < 50% of price volatility\n",
    "valid_tickers = [\n",
    "    ticker for ticker in performance_df.index\n",
    "    if performance_df.loc[ticker, \"RMSE\"] < 0.5 * price_volatility[ticker]\n",
    "]\n",
    "\n",
    "# Select top 50 by expected return\n",
    "selected_stocks = performance_df.loc[valid_tickers].nlargest(50, \"Expected_Return\").index.tolist()\n",
    "print(selected_stocks)"
   ]
  },
  {
   "cell_type": "code",
   "execution_count": null,
   "id": "5c8cd471",
   "metadata": {},
   "outputs": [
    {
     "name": "stdout",
     "output_type": "stream",
     "text": [
      "[3.23861565e-01 3.43210981e-01 7.45893827e-02 2.58338071e-01\n",
      " 1.94072189e-17 3.76218154e-17 1.19262239e-17 1.25767452e-17\n",
      " 2.38524478e-18 0.00000000e+00 0.00000000e+00 3.07913417e-17\n",
      " 2.40692882e-17 0.00000000e+00 0.00000000e+00 0.00000000e+00\n",
      " 0.00000000e+00 2.76471554e-18 0.00000000e+00 0.00000000e+00\n",
      " 0.00000000e+00 0.00000000e+00 9.32413868e-18 9.32413868e-18\n",
      " 0.00000000e+00 0.00000000e+00 8.29414662e-18 0.00000000e+00\n",
      " 1.13841228e-17 0.00000000e+00 0.00000000e+00 4.33680869e-19\n",
      " 0.00000000e+00 0.00000000e+00 0.00000000e+00 3.36102673e-18\n",
      " 0.00000000e+00 0.00000000e+00 0.00000000e+00 2.05998413e-18\n",
      " 0.00000000e+00 1.45283091e-17 1.27935856e-17 0.00000000e+00\n",
      " 4.01154804e-18 1.65882932e-17 0.00000000e+00 1.17093835e-17\n",
      " 4.55364912e-18 0.00000000e+00]\n"
     ]
    }
   ],
   "source": [
    "# Get historical log returns for covariance matrix\n",
    "returns_df = full_df.pivot(index=\"Date\", columns=\"Ticker\", values=\"Log_Return\")[selected_stocks]\n",
    "\n",
    "# Get predicted returns from XGB\n",
    "predicted_returns = pd.DataFrame({\n",
    "    ticker: results[ticker][\"Expected Return\"]\n",
    "    for ticker in selected_stocks\n",
    "}, index=[\"Expected_Return\"])\n",
    "\n",
    "# Covariance matrix (annualized)\n",
    "cov_matrix = returns_df.cov() * 252  # 252 trading days\n",
    "\n",
    "# Expected returns matrix\n",
    "mu = predicted_returns.values.flatten()\n",
    "\n",
    "# Portfolio optimization function\n",
    "def optimize_portfolio(mu, cov_matrix, risk_free_rate=0.04):\n",
    "    def sharpe_ratio(weights):\n",
    "        port_return = np.dot(weights, mu)\n",
    "        port_vol = np.sqrt(weights.T @ cov_matrix @ weights)\n",
    "        return -(port_return - risk_free_rate) / port_vol  # Negative for minimization\n",
    "    \n",
    "    constraints = ({'type': 'eq', 'fun': lambda x: np.sum(x) - 1})\n",
    "    bounds = tuple((0, 1) for _ in range(len(mu)))\n",
    "    initial_weights = np.ones(len(mu)) / len(mu)\n",
    "    \n",
    "    opt = minimize(sharpe_ratio, initial_weights,\n",
    "                   method=\"SLSQP\", bounds=bounds, constraints=constraints)\n",
    "    return opt.x\n",
    "\n",
    "optimal_weights = optimize_portfolio(mu, cov_matrix)\n",
    "\n",
    "print(optimal_weights)"
   ]
  },
  {
   "cell_type": "code",
   "execution_count": null,
   "id": "d77104f9",
   "metadata": {},
   "outputs": [
    {
     "name": "stdout",
     "output_type": "stream",
     "text": [
      "\n",
      "📊 Final Performance Report\n",
      "---------------------------------\n",
      "                   Portfolio   S&P 500\n",
      "Total Return:     18.74%     4.37%\n",
      "Annual Volatility: 30.63%     11.23%\n",
      "Sharpe Ratio:     1.67       1.11\n",
      "\n"
     ]
    }
   ],
   "source": [
    "portfolio_values = []\n",
    "for ticker in selected_stocks:\n",
    "    test_prices = results[ticker][\"Actual Prices\"]\n",
    "    returns = np.log(test_prices[1:]/test_prices[:-1])\n",
    "    portfolio_values.append(returns * optimal_weights[selected_stocks.index(ticker)])\n",
    "\n",
    "portfolio_returns = np.sum(portfolio_values, axis=0)\n",
    "cumulative_portfolio = np.exp(np.cumsum(portfolio_returns))\n",
    " \n",
    "# Get S&P 500 returns for same period\n",
    "sp500_returns = np.log(sp500[\"Closing_Price\"].pct_change() + 1).dropna().values[-len(portfolio_returns):]\n",
    "cumulative_sp500 = np.exp(np.cumsum(sp500_returns))\n",
    " \n",
    "def calculate_metrics(returns, risk_free=0.04/12):  # Monthly risk-free\n",
    "    total_return = np.exp(np.sum(returns)) - 1\n",
    "    volatility = np.std(returns) * np.sqrt(12)\n",
    "    sharpe = (np.mean(returns) * 12 - risk_free) / volatility\n",
    "    return total_return, volatility, sharpe\n",
    " \n",
    "port_return, port_vol, port_sharpe = calculate_metrics(portfolio_returns)\n",
    "sp500_return, sp500_vol, sp500_sharpe = calculate_metrics(sp500_returns)\n",
    " \n",
    "print(f\"\"\"\n",
    "📊 Final Performance Report\n",
    "---------------------------------\n",
    "                   Portfolio   S&P 500\n",
    "Total Return:     {port_return:.2%}     {sp500_return:.2%}\n",
    "Annual Volatility: {port_vol:.2%}     {sp500_vol:.2%}\n",
    "Sharpe Ratio:     {port_sharpe:.2f}       {sp500_sharpe:.2f}\n",
    "\"\"\")"
   ]
  },
  {
   "cell_type": "code",
   "execution_count": null,
   "id": "b244b5e5",
   "metadata": {},
   "outputs": [
    {
     "data": {
      "image/png": "[encoded data removed]",
      "text/plain": [
       "<Figure size 1000x600 with 1 Axes>"
      ]
     },
     "metadata": {},
     "output_type": "display_data"
    }
   ],
   "source": [
    "plt.figure(figsize=(10, 6))\n",
    "plt.plot(cumulative_portfolio, label=\"XGB Portfolio\")\n",
    "plt.plot(cumulative_sp500, label=\"S&P 500\")\n",
    "plt.title(\"5-Month Backtest Performance\")\n",
    "plt.xlabel(\"Trading Days\")\n",
    "plt.ylabel(\"Cumulative Return\")\n",
    "plt.legend()\n",
    "plt.savefig(\"xgb_performance_comparison.png\")\n",
    "plt.show()"
   ]
  }
 ],
 "metadata": {
  "kernelspec": {
   "display_name": "base",
   "language": "python",
   "name": "python3"
  },
  "language_info": {
   "codemirror_mode": {
    "name": "ipython",
    "version": 3
   },
   "file_extension": ".py",
   "mimetype": "text/x-python",
   "name": "python",
   "nbconvert_exporter": "python",
   "pygments_lexer": "ipython3",
   "version": "3.12.7"
  }
 },
 "nbformat": 4,
 "nbformat_minor": 5
}
