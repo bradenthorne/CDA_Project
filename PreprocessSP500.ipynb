{
 "cells": [
  {
   "cell_type": "code",
   "execution_count": 2,
   "metadata": {},
   "outputs": [
    {
     "name": "stdout",
     "output_type": "stream",
     "text": [
      "        Date  PX_LAST    PX_VOLUME  PX_HIGH   PX_LOW\n",
      "0 2000-01-31  1394.46  22442860600  1478.00  1350.05\n",
      "1 2000-02-29  1366.42  20856694700  1444.55  1325.02\n",
      "2 2000-03-31  1498.58  27047942304  1552.87  1346.62\n",
      "3 2000-04-28  1452.43  22869799602  1527.19  1339.40\n",
      "4 2000-05-31  1420.60  22106009224  1481.51  1361.09\n"
     ]
    }
   ],
   "source": [
    "import pandas as pd\n",
    "from datetime import datetime\n",
    "\n",
    "# Load the Excel file\n",
    "file_path = \"SP500_Raw.xlsx\"\n",
    "df = pd.read_excel(file_path)\n",
    "df.rename(columns={df.columns[0]: \"Date\"}, inplace=True)\n",
    "df[\"Date\"] = pd.to_datetime(df[\"Date\"], errors='coerce')\n",
    "df.dropna(subset=[\"Date\"], inplace=True)\n",
    "print(df.head())\n"
   ]
  },
  {
   "cell_type": "markdown",
   "metadata": {},
   "source": [
    "# FILER 5 YEAR"
   ]
  },
  {
   "cell_type": "code",
   "execution_count": 7,
   "metadata": {},
   "outputs": [],
   "source": [
    "df[\"Date\"] = pd.to_datetime(df[\"Date\"])"
   ]
  },
  {
   "cell_type": "code",
   "execution_count": 8,
   "metadata": {},
   "outputs": [],
   "source": [
    "df = df.sort_values(\"Date\")\n",
    "cutoff_date = df[\"Date\"].max() - pd.DateOffset(years=5)\n",
    "df = df[df[\"Date\"] >= cutoff_date].reset_index(drop=True)"
   ]
  },
  {
   "cell_type": "code",
   "execution_count": 9,
   "metadata": {},
   "outputs": [
    {
     "name": "stdout",
     "output_type": "stream",
     "text": [
      "        Date Ticker  Closing_Price  Simple_Return  Log_Return\n",
      "0 2020-02-28  SP500        2954.22            NaN         NaN\n",
      "1 2020-03-31  SP500        2584.59      -0.125119   -0.133668\n",
      "2 2020-04-30  SP500        2912.43       0.126844    0.119421\n",
      "3 2020-05-29  SP500        3044.31       0.045282    0.044286\n",
      "4 2020-06-30  SP500        3100.29       0.018388    0.018221\n"
     ]
    }
   ],
   "source": [
    "# STEP 3: Rename PX_LAST as Closing_Price\n",
    "df[\"Closing_Price\"] = df[\"PX_LAST\"]\n",
    "\n",
    "# STEP 4: Add a dummy Ticker (optional, for uniformity)\n",
    "df[\"Ticker\"] = \"SP500\"\n",
    "\n",
    "# STEP 5: Compute returns\n",
    "df = df.sort_values(by=[\"Ticker\", \"Date\"]).reset_index(drop=True)\n",
    "df[\"Simple_Return\"] = df.groupby(\"Ticker\")[\"Closing_Price\"].pct_change()\n",
    "df[\"Log_Return\"] = np.log(1 + df[\"Simple_Return\"])\n",
    "\n",
    "# STEP 6: Preview\n",
    "print(df[[\"Date\", \"Ticker\", \"Closing_Price\", \"Simple_Return\", \"Log_Return\"]].head())"
   ]
  },
  {
   "cell_type": "code",
   "execution_count": 10,
   "metadata": {},
   "outputs": [],
   "source": [
    "# Save to Excel file\n",
    "df.to_excel(\"sp500_Cleaned_Processed.xlsx\", index=False)\n"
   ]
  }
 ],
 "metadata": {
  "kernelspec": {
   "display_name": "base",
   "language": "python",
   "name": "python3"
  },
  "language_info": {
   "codemirror_mode": {
    "name": "ipython",
    "version": 3
   },
   "file_extension": ".py",
   "mimetype": "text/x-python",
   "name": "python",
   "nbconvert_exporter": "python",
   "pygments_lexer": "ipython3",
   "version": "3.12.4"
  }
 },
 "nbformat": 4,
 "nbformat_minor": 2
}
